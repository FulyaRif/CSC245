
import pandas as pd
import numpy as np
student_data1 = {
    'student_id': ['S1', 'S2', 'S3', 'S4', 'S5'],
    'name': ['Danniella Fenton', 'Ryder Storey', 'Bryce Jensen', 'Ed Bernal', 'Kwame Morin'],
    'marks': [200, 210, 190, 222, 199]
}

student_data2 = {
    'student_id': ['S4', 'S5', 'S6', 'S7', 'S8'],
    'name': ['Scarlette Fisher', 'Carla Williamson', 'Dante Morse', 'Kaiser William', 'Madeeha Preston'],
    'marks': [201, 200, 198, 219, 201]
}

df1 = pd.DataFrame(student_data1)
df2 = pd.DataFrame(student_data2)
#combine data in rows
newDf1= pd.concat([df1, df2], axis=0, ignore_index=True)
print(newDf1)

#combine data in columns
newDf2 = pd.concat([df1, df2], axis=1)
print(newDf2)

#Append new row
new_row = pd.Series(['S6', 'Scarlette Fisher', 205], index=['student_id', 'name', 'marks'])

newDf3 = df1.append(new_row, ignore_index=True)

# Display the combined data
print(newDf3)


# In[3]:


# Student dataframes
student_data1 = pd.DataFrame({
    'student_id': ['S1', 'S2', 'S3', 'S4', 'S5'],
    'name': ['Danniella Fenton', 'Ryder Storey', 'Bryce Jensen', 'Ed Bernal', 'Kwame Morin'],
    'marks': [200, 210, 190, 222, 199]
})

student_data2 = pd.DataFrame({
    'student_id': ['S4', 'S5', 'S6', 'S7', 'S8'],
    'name': ['Scarlette Fisher', 'Carla Williamson', 'Dante Morse', 'Kaiser William', 'Madeeha Preston'],
    'marks': [201, 200, 198, 219, 201]
})

# Exam data
exam_data = pd.DataFrame({
    'student_id': ['S1', 'S2', 'S3', 'S4', 'S5', 'S7', 'S8', 'S9', 'S10', 'S11', 'S12', 'S13'],
    'exam_id': [23, 45, 12, 67, 21, 55, 33, 14, 56, 83, 88, 12]
})

# Join student_data1 and student_data2 along rows
student_data_combined = pd.concat([student_data1, student_data2], ignore_index=True)

# Merge student_data_combined with exam_data along the common column student_id
result = pd.merge(student_data_combined, exam_data, on='student_id')

# Display the result
print(result)



# Exam data
exam_data = pd.DataFrame({
    'student_id': ['S1', 'S2', 'S3', 'S4', 'S5', 'S7', 'S8', 'S9', 'S10', 'S11', 'S12', 'S13'],
    'exam_id': [23, 45, 12, 67, 21, 55, 33, 14, 56, 83, 88, 12]
})

# Join student_data1 and student_data2 along rows
student_data_combined = pd.concat([student_data1, student_data2], ignore_index=True)

# Merge student_data_combined with exam_data along the common column student_id
result = pd.merge(student_data_combined, exam_data, on='student_id')

# Display the result
print(result)


# In[4]:


# Join the two dataframes using the common column 'student_id'
result = pd.merge(student_data1, student_data2, on='student_id', suffixes=('_data1', '_data2'))

# Display the result
print(result)


# In[6]:


# Join the two dataframes with matching records from both sides
result = pd.merge(student_data1, student_data2, on='student_id', how='inner', suffixes=('_data1', '_data2'))

# Display the result
print(result)


# In[7]:


import pandas as pd

# Test data
data1 = pd.DataFrame({
    'key1': ['K0', 'K0', 'K1', 'K2'],
    'key2': ['K0', 'K1', 'K0', 'K1'],
    'P': ['P0', 'P1', 'P2', 'P3'],
    'Q': ['Q0', 'Q1', 'Q2', 'Q3']
})

data2 = pd.DataFrame({
    'key1': ['K0', 'K1', 'K1', 'K2'],
    'key2': ['K0', 'K0', 'K0', 'K0'],
    'R': ['R0', 'R1', 'R2', 'R3'],
    'S': ['S0', 'S1', 'S2', 'S3']
})

# Left join the two dataframes using keys from the left dataframe only
result = pd.merge(data1, data2, on=['key1', 'key2'], how='left')

# Display the result
print(result)


# In[8]:


# Right join the two dataframes using keys from the right dataframe only
result = pd.merge(data1, data2, on=['key1', 'key2'], how='right')

# Display the result
print(result)


# In[9]:


# Merge the two dataframes using multiple join keys
result = pd.merge(data1, data2, on=['key1', 'key2'])

# Display the result
print(result)


# In[10]:


# Test data
data1 = pd.DataFrame({
    'A': ['A0', 'A1', 'A2'],
    'B': ['B0', 'B1', 'B2']
}, index=['K0', 'K1', 'K2'])

data2 = pd.DataFrame({
    'C': ['C0', 'C2', 'C3'],
    'D': ['D0', 'D2', 'D3']
}, index=['K0', 'K2', 'K3'])

# Combine the columns of two potentially differently-indexed DataFrames
result = pd.concat([data1, data2], axis=1)

# Display the result
print(result)


# In[11]:


data1 = pd.DataFrame({
    'key1': ['K0', 'K0', 'K1', 'K2'],
    'key2': ['K0', 'K1', 'K0', 'K1'],
    'P': ['P0', 'P1', 'P2', 'P3'],
    'Q': ['Q0', 'Q1', 'Q2', 'Q3']
})

data2 = pd.DataFrame({
    'key1': ['K0', 'K1', 'K1', 'K2'],
    'key2': ['K0', 'K0', 'K0', 'K0'],
    'R': ['R0', 'R1', 'R2', 'R3'],
    'S': ['S0', 'S1', 'S2', 'S3']
})

# Merge the two dataframes with different columns
result = pd.merge(data1, data2, on=['key1', 'key2'])

# Display the result
print(result)


# In[14]:


data1 = pd.DataFrame({'A': [np.nan, 0.0, np.nan],
                      'B': [3, 4, 5]})

data2 = pd.DataFrame({'A': [1, 1, 3],
                      'B': [3.0, np.nan, 3.0]})

# Combine the two DataFrames by filling null values in one DataFrame with non-null values from the other DataFrame
result = data1.combine_first(data2)

# Display the result
print("Combined DataFrame:")
print(result)
